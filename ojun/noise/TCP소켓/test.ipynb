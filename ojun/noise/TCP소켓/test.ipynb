{
 "cells": [
  {
   "cell_type": "code",
   "execution_count": null,
   "id": "045b40bd",
   "metadata": {},
   "outputs": [
    {
     "name": "stdout",
     "output_type": "stream",
     "text": [
      "Server is running on 0.0.0.0:12345\n",
      "Connected by ('192.168.0.69', 54326)\n",
      "File transmission completed\n",
      "File transmission completed\n",
      "File transmission completed\n"
     ]
    }
   ],
   "source": [
    "import socket\n",
    "import os\n",
    "import time \n",
    "\n",
    "files1 = []\n",
    "files2 = []\n",
    "\n",
    "path = \"./wav파일들2\"\n",
    "\n",
    "# 서버 IP와 포트 설정\n",
    "HOST = '0.0.0.0'  # 모든 IP에서 접속 허용\n",
    "PORT = 12345  # 사용할 포트 번호\n",
    "\n",
    "# 소켓 생성 및 바인딩\n",
    "s = socket.socket(socket.AF_INET, socket.SOCK_STREAM)\n",
    "s.bind((HOST, PORT))\n",
    "s.listen(5)\n",
    "print(f'Server is running on {HOST}:{PORT}')\n",
    "\n",
    "while True:\n",
    "    # 클라이언트로부터 연결 요청 수락\n",
    "    conn, addr = s.accept()\n",
    "    print(f'Connected by {addr}')\n",
    "    files1 = os.listdir(path)\n",
    "    for i in files1 :\n",
    "        with open('./wav파일들2/{}'.format(i), 'rb') as f:\n",
    "            data = f.read(1024)\n",
    "            while data:\n",
    "                conn.send(data)\n",
    "                data = f.read(1024)\n",
    "        print('File transmission completed')\n",
    "        time.sleep(5)\n",
    "#     while 1 :\n",
    "#         # 파일 전송\n",
    "#         files2 = os.listdir(path)\n",
    "#         if files2 != files1 :\n",
    "#             for i in files2 :\n",
    "#                 if i not in files1:\n",
    "#                     with open('./wav파일들2/{}'.format(i), 'rb') as f:\n",
    "#                         data = f.read(1024)\n",
    "#                         while data:\n",
    "#                             conn.send(data)\n",
    "#                             data = f.read(1024)\n",
    "#                     print('File transmission completed')\n",
    "#                     time.sleep(5)\n",
    "#             files1 = files2\n",
    "    conn.close()"
   ]
  },
  {
   "cell_type": "code",
   "execution_count": null,
   "id": "20ad41a3",
   "metadata": {},
   "outputs": [],
   "source": []
  },
  {
   "cell_type": "code",
   "execution_count": null,
   "id": "14d6904f",
   "metadata": {},
   "outputs": [],
   "source": [
    "import socket\n",
    "\n",
    "# 서버 IP와 포트 설정\n",
    "HOST = '0.0.0.0'  # 모든 IP에서 접속 허용\n",
    "PORT = 12345  # 사용할 포트 번호\n",
    "\n",
    "# 소켓 생성 및 바인딩\n",
    "s = socket.socket(socket.AF_INET, socket.SOCK_STREAM)\n",
    "s.bind((HOST, PORT))\n",
    "s.listen(1)\n",
    "print(f'Server is running on {HOST}:{PORT}')\n",
    "\n",
    "while True:\n",
    "    # 클라이언트로부터 연결 요청 수락\n",
    "    conn, addr = s.accept()\n",
    "    print(f'Connected by {addr}')\n",
    "\n",
    "    # 파일 전송\n",
    "    with open('파일경로/파일명', 'rb') as f:\n",
    "        data = f.read(1024)\n",
    "        while data:\n",
    "            conn.send(data)\n",
    "            data = f.read(1024)\n",
    "    print('File transmission completed')\n",
    "    conn.close()"
   ]
  }
 ],
 "metadata": {
  "kernelspec": {
   "display_name": "noise_kernel",
   "language": "python",
   "name": "noise"
  },
  "language_info": {
   "codemirror_mode": {
    "name": "ipython",
    "version": 3
   },
   "file_extension": ".py",
   "mimetype": "text/x-python",
   "name": "python",
   "nbconvert_exporter": "python",
   "pygments_lexer": "ipython3",
   "version": "3.9.16"
  }
 },
 "nbformat": 4,
 "nbformat_minor": 5
}
