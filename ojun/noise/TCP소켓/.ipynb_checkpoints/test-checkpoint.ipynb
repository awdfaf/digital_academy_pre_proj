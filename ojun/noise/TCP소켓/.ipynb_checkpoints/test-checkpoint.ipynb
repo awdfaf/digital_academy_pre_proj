{
 "cells": [
  {
   "cell_type": "code",
   "execution_count": null,
   "id": "045b40bd",
   "metadata": {},
   "outputs": [
    {
     "name": "stdout",
     "output_type": "stream",
     "text": [
      "Server is running on 0.0.0.0:12345\n",
      "Connected by ('192.168.0.69', 53880)\n",
      "File transmission completed\n"
     ]
    }
   ],
   "source": [
    "import socket\n",
    "import os\n",
    "\n",
    "path = \"./wav파일들2\"\n",
    "\n",
    "# 서버 IP와 포트 설정\n",
    "HOST = '0.0.0.0'  # 모든 IP에서 접속 허용\n",
    "PORT = 12345  # 사용할 포트 번호\n",
    "\n",
    "# 소켓 생성 및 바인딩\n",
    "s = socket.socket(socket.AF_INET, socket.SOCK_STREAM)\n",
    "s.bind((HOST, PORT))\n",
    "s.listen(5)\n",
    "print(f'Server is running on {HOST}:{PORT}')\n",
    "\n",
    "while True:\n",
    "    # 클라이언트로부터 연결 요청 수락\n",
    "    conn, addr = s.accept()\n",
    "    print(f'Connected by {addr}')\n",
    "    file1 = os.listdir(path)\n",
    "    \n",
    "    while 1 :\n",
    "        # 파일 전송\n",
    "        with open('./wav파일들2/wav (1).wav', 'rb') as f:\n",
    "            data = f.read(1024)\n",
    "            while data:\n",
    "                conn.send(data)\n",
    "                data = f.read(1024)\n",
    "        print('File transmission completed')\n",
    "#     conn.close()"
   ]
  },
  {
   "cell_type": "code",
   "execution_count": null,
   "id": "14d6904f",
   "metadata": {},
   "outputs": [],
   "source": []
  }
 ],
 "metadata": {
  "kernelspec": {
   "display_name": "noise_kernel",
   "language": "python",
   "name": "noise"
  },
  "language_info": {
   "codemirror_mode": {
    "name": "ipython",
    "version": 3
   },
   "file_extension": ".py",
   "mimetype": "text/x-python",
   "name": "python",
   "nbconvert_exporter": "python",
   "pygments_lexer": "ipython3",
   "version": "3.9.16"
  }
 },
 "nbformat": 4,
 "nbformat_minor": 5
}
