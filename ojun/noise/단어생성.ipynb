{
 "cells": [
  {
   "cell_type": "code",
   "execution_count": 1,
   "id": "68153d09",
   "metadata": {},
   "outputs": [
    {
     "name": "stdout",
     "output_type": "stream",
     "text": [
      "배다\n",
      "배를\n",
      "배에\n",
      "배와\n",
      "사과다\n",
      "사과를\n",
      "사과에\n",
      "사과와\n",
      "포도다\n",
      "포도를\n",
      "포도에\n",
      "포도와\n",
      "딸기다\n",
      "딸기를\n",
      "딸기에\n",
      "딸기와\n"
     ]
    }
   ],
   "source": [
    "# 어간과 접사 정의\n",
    "stems = [\"배\", \"사과\", \"포도\", \"딸기\"]\n",
    "suffixes = [\"다\", \"를\", \"에\", \"와\"]\n",
    "\n",
    "# 어간과 접사 조합하여 새로운 단어 생성\n",
    "new_words = []\n",
    "\n",
    "for stem in stems:\n",
    "    for suffix in suffixes:\n",
    "        new_word = stem + suffix\n",
    "        new_words.append(new_word)\n",
    "\n",
    "# 생성된 단어 출력\n",
    "for word in new_words:\n",
    "    print(word)\n"
   ]
  },
  {
   "cell_type": "code",
   "execution_count": null,
   "id": "46b93698",
   "metadata": {},
   "outputs": [],
   "source": []
  },
  {
   "cell_type": "code",
   "execution_count": 24,
   "id": "609aecd7",
   "metadata": {},
   "outputs": [],
   "source": [
    "### 형태소분석\n",
    "from konlpy.tag import Okt"
   ]
  },
  {
   "cell_type": "code",
   "execution_count": 28,
   "id": "48d65b2a",
   "metadata": {},
   "outputs": [
    {
     "data": {
      "text/plain": [
       "<konlpy.tag._okt.Okt at 0x1dde1ba3520>"
      ]
     },
     "execution_count": 28,
     "metadata": {},
     "output_type": "execute_result"
    }
   ],
   "source": [
    "### 형태소 분석기\n",
    "word = Okt()\n",
    "word"
   ]
  },
  {
   "cell_type": "code",
   "execution_count": 29,
   "id": "10c20631",
   "metadata": {},
   "outputs": [],
   "source": [
    "text = \"오늘은 23년 3월 28일 나는 배고프다.\""
   ]
  },
  {
   "cell_type": "code",
   "execution_count": 31,
   "id": "fd11ed84",
   "metadata": {},
   "outputs": [
    {
     "name": "stdout",
     "output_type": "stream",
     "text": [
      "오늘은 23년 3월 28일 나는 배고프다.\n"
     ]
    }
   ],
   "source": [
    "### 명사(Noun) 추출하기\n",
    "word_list = word.nouns(text)\n",
    "word_list"
   ]
  },
  {
   "cell_type": "code",
   "execution_count": null,
   "id": "cca91b1e",
   "metadata": {},
   "outputs": [],
   "source": [
    "from gensim.models import FastText\n",
    "\n",
    "# 미리 학습된 한글 fasttext 모델을 불러옵니다.\n",
    "model = FastText.load_fasttext_format('cc.ko.300.bin')\n",
    "\n",
    "# \"사과\"와 유사한 단어들을 출력합니다.\n",
    "similar_words = model.wv.most_similar(\"사과\")\n",
    "print(similar_words)"
   ]
  },
  {
   "cell_type": "code",
   "execution_count": 3,
   "id": "4d6dbe4a",
   "metadata": {},
   "outputs": [],
   "source": [
    "import fasttext.util"
   ]
  },
  {
   "cell_type": "code",
   "execution_count": 5,
   "id": "c2f1b4b3",
   "metadata": {},
   "outputs": [
    {
     "name": "stdout",
     "output_type": "stream",
     "text": [
      "유사한 단어 리스트: ['세', '대한', '예시와', '첫', '</s>', '예시에', '있습니다.', '번째', '관련된', '포함되어']\n"
     ]
    }
   ],
   "source": [
    "import fasttext\n",
    "import os\n",
    "\n",
    "# 데이터 파일 경로를 설정합니다. 예: 'data.txt'\n",
    "# data_path = 'data.txt'\n",
    "\n",
    "# FastText 모델을 학습합니다. -minCount 값을 낮춰서 학습합니다 (예: 1).\n",
    "model = fasttext.train_unsupervised(\"./example.txt\", minCount=1)\n",
    "\n",
    "# 찾고자 하는 단어를 설정합니다. 예: '예시'\n",
    "target_word = '예시'\n",
    "\n",
    "# FastText 모델을 사용하여 유사한 단어를 찾습니다. 상위 k개의 유사한 단어를 반환합니다.\n",
    "k = 10\n",
    "similar_words = model.get_nearest_neighbors(target_word, k)\n",
    "\n",
    "# 유사한 단어들을 하나의 리스트로 만듭니다.\n",
    "similar_word_list = [word[1] for word in similar_words]\n",
    "\n",
    "print(f\"유사한 단어 리스트: {similar_word_list}\")"
   ]
  },
  {
   "cell_type": "code",
   "execution_count": 8,
   "id": "386b0f4e",
   "metadata": {},
   "outputs": [
    {
     "name": "stdout",
     "output_type": "stream",
     "text": [
      "[]\n"
     ]
    }
   ],
   "source": [
    "import fasttext\n",
    "\n",
    "# 텍스트 데이터 전처리 및 분리 작업\n",
    "text = \"공장 내부에서 소음이 심해서 작업이 힘들어요. 귀가 아파서 집중이 안 돼요.\"\n",
    "processed_text = text.lower().replace('.', '').replace(',', '').split()\n",
    "\n",
    "# fasttext 모델 학습\n",
    "model = fasttext.train_unsupervised('example.txt', model='skipgram',minCount=1)\n",
    "\n",
    "# 키워드 추출\n",
    "keywords = []\n",
    "for word in processed_text:\n",
    "    if word in model:\n",
    "        similar_words = model.get_nearest_neighbors(word)\n",
    "        for similar_word in similar_words:\n",
    "            if '공장' in similar_word[1]:\n",
    "                keywords.append(similar_word[1])\n",
    "keywords = list(set(keywords)) # 중복 제거\n",
    "print(keywords)"
   ]
  },
  {
   "cell_type": "code",
   "execution_count": null,
   "id": "c975c665",
   "metadata": {},
   "outputs": [],
   "source": []
  }
 ],
 "metadata": {
  "kernelspec": {
   "display_name": "fasttext_kernel",
   "language": "python",
   "name": "fasttext"
  },
  "language_info": {
   "codemirror_mode": {
    "name": "ipython",
    "version": 3
   },
   "file_extension": ".py",
   "mimetype": "text/x-python",
   "name": "python",
   "nbconvert_exporter": "python",
   "pygments_lexer": "ipython3",
   "version": "3.9.16"
  }
 },
 "nbformat": 4,
 "nbformat_minor": 5
}
