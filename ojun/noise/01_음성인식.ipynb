{
 "cells": [
  {
   "cell_type": "markdown",
   "id": "4346cbba",
   "metadata": {},
   "source": [
    "# 영어 텍스트 인식"
   ]
  },
  {
   "cell_type": "code",
   "execution_count": 2,
   "id": "224fccab",
   "metadata": {},
   "outputs": [
    {
     "name": "stdout",
     "output_type": "stream",
     "text": [
      "result2:\n",
      "{   'alternative': [   {   'confidence': 0.96362764,\n",
      "                           'transcript': 'what can I do for you have a seat '\n",
      "                                         'please I would like to know why you '\n",
      "                                         \"wouldn't meet with me yesterday I'm \"\n",
      "                                         \"sorry I'm not following I sat here \"\n",
      "                                         'yesterday waiting to meet with '\n",
      "                                         'someone I believe that person was '\n",
      "                                         \"you I think that you're confusing me \"\n",
      "                                         'for someone else'},\n",
      "                       {   'transcript': 'what can I do for you have a seat '\n",
      "                                         'please I would like to know why you '\n",
      "                                         \"wouldn't meet with me yesterday I'm \"\n",
      "                                         \"sorry I'm not following I said here \"\n",
      "                                         'yesterday waiting to meet with '\n",
      "                                         'someone I believe that person was '\n",
      "                                         \"you I think that you're confusing me \"\n",
      "                                         'for someone else'},\n",
      "                       {   'transcript': 'what can I do for you have a seat '\n",
      "                                         'please I would like to know why you '\n",
      "                                         \"wouldn't meet with me yesterday I'm \"\n",
      "                                         \"sorry I'm not following I sent here \"\n",
      "                                         'yesterday waiting to meet with '\n",
      "                                         'someone I believe that person was '\n",
      "                                         \"you I think that you're confusing me \"\n",
      "                                         'for someone else'},\n",
      "                       {   'transcript': 'what can I do for you have a seat '\n",
      "                                         'please I would like to know why you '\n",
      "                                         \"wouldn't meet with me yesterday I am \"\n",
      "                                         \"sorry I'm not following I sat here \"\n",
      "                                         'yesterday waiting to meet with '\n",
      "                                         'someone I believe that person was '\n",
      "                                         \"you I think that you're confusing me \"\n",
      "                                         'for someone else'},\n",
      "                       {   'transcript': 'what can I do for you have a seat '\n",
      "                                         'please I would like to know why you '\n",
      "                                         \"wouldn't meet with me yesterday I am \"\n",
      "                                         \"sorry I'm not following I said here \"\n",
      "                                         'yesterday waiting to meet with '\n",
      "                                         'someone I believe that person was '\n",
      "                                         \"you I think that you're confusing me \"\n",
      "                                         'for someone else'}],\n",
      "    'final': True}\n",
      "what can I do for you have a seat please I would like to know why you wouldn't meet with me yesterday I'm sorry I'm not following I sat here yesterday waiting to meet with someone I believe that person was you I think that you're confusing me for someone else\n"
     ]
    }
   ],
   "source": [
    "import speech_recognition as sr\n",
    "#import sys #-- 텍스트 저장시 사용\n",
    "\n",
    "r = sr.Recognizer()\n",
    "\n",
    "audio_file = sr.AudioFile('./drama_test.wav')\n",
    "\n",
    "with audio_file as source:\n",
    "    audio = r.record(source)\n",
    "\n",
    "#sys.stdout = open('stdout.txt', 'w') #-- 텍스트 저장시 사용\n",
    "\n",
    "print(r.recognize_google(audio))\n",
    "\n",
    "#sys.stdout.close() #-- 텍스트 저장시 사용"
   ]
  },
  {
   "cell_type": "markdown",
   "id": "a8d802ec",
   "metadata": {},
   "source": [
    "# 한글 텍스트 인식"
   ]
  },
  {
   "cell_type": "code",
   "execution_count": 12,
   "id": "a37d728b",
   "metadata": {},
   "outputs": [
    {
     "name": "stdout",
     "output_type": "stream",
     "text": [
      "result2:\n",
      "{   'alternative': [   {   'confidence': 0.90028679,\n",
      "                           'transcript': '안녕하십니까 MBC 뉴스특보입니다 국민은행 윤석열 대선후보가 '\n",
      "                                         '여의도 국민의 힘 당사에서 선대위 개편안을 직접 발표합니다 바로 '\n",
      "                                         '현장을 연결해 보겠습니다'},\n",
      "                       {   'transcript': '안녕하십니까 MBC 뉴스특보입니다 국민은행 윤석렬 대선후보가 '\n",
      "                                         '여의도 국민의 힘 당사에서 선대위 개편안을 직접 발표합니다 바로 '\n",
      "                                         '현장을 연결해 보겠습니다'},\n",
      "                       {   'transcript': '안녕하십니까 MBC 뉴스특보입니다 국민은행 윤석렬 대선 후보가 '\n",
      "                                         '여의도 국민의 힘 당사에서 선대위 개편안을 직접 발표합니다 바로 '\n",
      "                                         '현장을 연결해 보겠습니다'},\n",
      "                       {   'transcript': '안녕하십니까 MBC 뉴스 특보입니다 국민은행 윤석열 대선후보가 '\n",
      "                                         '여의도 국민의힘 당사에서 선대위 개편안을 직접 발표합니다 바로 '\n",
      "                                         '현장을 연결해 보겠습니다'},\n",
      "                       {   'transcript': '안녕하십니까 MBC 뉴스특보입니다 국민은행 윤석열 대선후보가 '\n",
      "                                         '여의도 국민의힘 당사에서 선대위 개편안을 직접 발표합니다 바로 '\n",
      "                                         '현장을 연결해 보겠습니다'}],\n",
      "    'final': True}\n",
      "안녕하십니까 MBC 뉴스특보입니다 국민은행 윤석열 대선후보가 여의도 국민의 힘 당사에서 선대위 개편안을 직접 발표합니다 바로 현장을 연결해 보겠습니다\n"
     ]
    }
   ],
   "source": [
    "import speech_recognition as sr\n",
    "#import sys #-- 텍스트 저장시 사용\n",
    "\n",
    "r = sr.Recognizer()\n",
    "kr_audio = sr.AudioFile('./news.wav')\n",
    "\n",
    "with kr_audio as source:\n",
    "    audio = r.record(source)\n",
    "\n",
    "#sys.stdout = open('news_out.txt', 'w') #-- 텍스트 저장시 사용\n",
    "print(r.recognize_google(audio, language='ko-KR')) #-- 한글 언어 사용\n",
    "\n",
    "#sys.stdout.close() #-- 텍스트 저장시 사용"
   ]
  },
  {
   "cell_type": "markdown",
   "id": "89dd37df",
   "metadata": {},
   "source": [
    "# 한글 음성 인식 및 텍스트 변환, 저장"
   ]
  },
  {
   "cell_type": "code",
   "execution_count": 4,
   "id": "22d29dc0",
   "metadata": {},
   "outputs": [
    {
     "name": "stdout",
     "output_type": "stream",
     "text": [
      "Say Something\n",
      "result2:\n",
      "[]\n",
      "Your speech can not understand\n"
     ]
    }
   ],
   "source": [
    "import speech_recognition as sr\n",
    "#import sys #-- 텍스트 저장시 사용\n",
    "\n",
    "r = sr.Recognizer()\n",
    "with sr.Microphone() as source:\n",
    "    print(\"Say Something\")\n",
    "    speech = r.listen(source)\n",
    "\n",
    "#sys.stdout = open('audio_output.txt', 'w') #-- 텍스트 저장시 사용\n",
    "\n",
    "try:\n",
    "    audio = r.recognize_google(speech, language=\"ko-KR\")\n",
    "    print(\"Your speech thinks like\\n \" + audio)\n",
    "except sr.UnknownValueError:\n",
    "    print(\"Your speech can not understand\")\n",
    "except sr.RequestError as e:\n",
    "    print(\"Request Error!; {0}\".format(e))\n",
    "\n",
    "#sys.stdout.close() #-- 텍스트 저장시 사용"
   ]
  },
  {
   "cell_type": "markdown",
   "id": "f1069805",
   "metadata": {},
   "source": [
    "# tts로 저장"
   ]
  },
  {
   "cell_type": "code",
   "execution_count": 5,
   "id": "4b256488",
   "metadata": {},
   "outputs": [],
   "source": [
    "from gtts import gTTS as gt\n",
    "\n",
    "#speech = gt(\"This is test speech\") #-- 영문 출력의 경우\n",
    "speech = gt(\"안녕하세요.\", lang = 'ko')\n",
    "speech.save('say_hello.wav') #-- 출력 저장"
   ]
  },
  {
   "cell_type": "code",
   "execution_count": null,
   "id": "acfc5acd",
   "metadata": {},
   "outputs": [],
   "source": []
  },
  {
   "cell_type": "code",
   "execution_count": null,
   "id": "74b51aa4",
   "metadata": {},
   "outputs": [],
   "source": []
  },
  {
   "cell_type": "code",
   "execution_count": null,
   "id": "c8fdd5a4",
   "metadata": {},
   "outputs": [],
   "source": []
  }
 ],
 "metadata": {
  "kernelspec": {
   "display_name": "noise_c_kernel",
   "language": "python",
   "name": "noise_c"
  },
  "language_info": {
   "codemirror_mode": {
    "name": "ipython",
    "version": 3
   },
   "file_extension": ".py",
   "mimetype": "text/x-python",
   "name": "python",
   "nbconvert_exporter": "python",
   "pygments_lexer": "ipython3",
   "version": "3.9.16"
  }
 },
 "nbformat": 4,
 "nbformat_minor": 5
}
