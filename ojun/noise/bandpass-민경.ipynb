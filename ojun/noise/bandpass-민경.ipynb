{
 "cells": [
  {
   "cell_type": "code",
   "execution_count": 10,
   "id": "1e26cabd",
   "metadata": {},
   "outputs": [],
   "source": [
    "import numpy as np\n",
    "import scipy.io.wavfile as wavfile\n",
    "import matplotlib.pyplot as plt\n",
    "\n",
    "# 소리 파일 읽기\n",
    "\n",
    "sample_rate, audio_data = wavfile.read('./0005.wav')\n",
    "\n",
    "# FFT 수행하여 주파수 영역으로 변환\n",
    "\n",
    "fft_data = np.fft.fft(audio_data)\n",
    "\n",
    "# 주파수 범위 설정 (100 Hz에서 3000 Hz 사이)\n",
    "\n",
    "start_freq = 500\n",
    "end_freq = 3000\n",
    "freq_range = np.logical_and(np.abs(np.fft.fftfreq(len(audio_data), 1/sample_rate)) >= start_freq,\n",
    "np.abs(np.fft.fftfreq(len(audio_data), 1/sample_rate)) <= end_freq)\n",
    "\n",
    "# 필터링을 수행하여 사람 목소리만 추출\n",
    "\n",
    "voice_data = np.fft.ifft(np.where(freq_range, fft_data, 0))\n",
    "\n",
    "# 사람 목소리만 있는 소리 파일 저장\n",
    "\n",
    "wavfile.write('./voice_file.wav', sample_rate, np.int16(voice_data.real))"
   ]
  },
  {
   "cell_type": "code",
   "execution_count": 11,
   "id": "eaed4438",
   "metadata": {},
   "outputs": [
    {
     "ename": "UnknownValueError",
     "evalue": "",
     "output_type": "error",
     "traceback": [
      "\u001b[1;31m---------------------------------------------------------------------------\u001b[0m",
      "\u001b[1;31mUnknownValueError\u001b[0m                         Traceback (most recent call last)",
      "Cell \u001b[1;32mIn[11], line 11\u001b[0m\n\u001b[0;32m      8\u001b[0m     audio \u001b[38;5;241m=\u001b[39m r\u001b[38;5;241m.\u001b[39mrecord(source)\n\u001b[0;32m     10\u001b[0m \u001b[38;5;66;03m#sys.stdout = open('news_out.txt', 'w') #-- 텍스트 저장시 사용\u001b[39;00m\n\u001b[1;32m---> 11\u001b[0m \u001b[38;5;28mprint\u001b[39m(\u001b[43mr\u001b[49m\u001b[38;5;241;43m.\u001b[39;49m\u001b[43mrecognize_google\u001b[49m\u001b[43m(\u001b[49m\u001b[43maudio\u001b[49m\u001b[43m,\u001b[49m\u001b[43m \u001b[49m\u001b[43mlanguage\u001b[49m\u001b[38;5;241;43m=\u001b[39;49m\u001b[38;5;124;43m'\u001b[39;49m\u001b[38;5;124;43mko-KR\u001b[39;49m\u001b[38;5;124;43m'\u001b[39;49m\u001b[43m)\u001b[49m) \u001b[38;5;66;03m#-- 한글 언어 사용\u001b[39;00m\n\u001b[0;32m     13\u001b[0m \u001b[38;5;66;03m#sys.stdout.close() #-- 텍스트 저장시 사용\u001b[39;00m\n",
      "File \u001b[1;32m~\\anaconda3\\envs\\noise\\lib\\site-packages\\speech_recognition\\__init__.py:728\u001b[0m, in \u001b[0;36mRecognizer.recognize_google\u001b[1;34m(self, audio_data, key, language, pfilter, show_all, with_confidence)\u001b[0m\n\u001b[0;32m    725\u001b[0m \u001b[38;5;28;01mif\u001b[39;00m show_all:\n\u001b[0;32m    726\u001b[0m     \u001b[38;5;28;01mreturn\u001b[39;00m actual_result\n\u001b[1;32m--> 728\u001b[0m \u001b[38;5;28;01mif\u001b[39;00m \u001b[38;5;129;01mnot\u001b[39;00m \u001b[38;5;28misinstance\u001b[39m(actual_result, \u001b[38;5;28mdict\u001b[39m) \u001b[38;5;129;01mor\u001b[39;00m \u001b[38;5;28mlen\u001b[39m(actual_result\u001b[38;5;241m.\u001b[39mget(\u001b[38;5;124m\"\u001b[39m\u001b[38;5;124malternative\u001b[39m\u001b[38;5;124m\"\u001b[39m, [])) \u001b[38;5;241m==\u001b[39m \u001b[38;5;241m0\u001b[39m: \u001b[38;5;28;01mraise\u001b[39;00m UnknownValueError()\n\u001b[0;32m    730\u001b[0m \u001b[38;5;28;01mif\u001b[39;00m \u001b[38;5;124m\"\u001b[39m\u001b[38;5;124mconfidence\u001b[39m\u001b[38;5;124m\"\u001b[39m \u001b[38;5;129;01min\u001b[39;00m actual_result[\u001b[38;5;124m\"\u001b[39m\u001b[38;5;124malternative\u001b[39m\u001b[38;5;124m\"\u001b[39m]:\n\u001b[0;32m    731\u001b[0m     \u001b[38;5;66;03m# return alternative with highest confidence score\u001b[39;00m\n\u001b[0;32m    732\u001b[0m     best_hypothesis \u001b[38;5;241m=\u001b[39m \u001b[38;5;28mmax\u001b[39m(actual_result[\u001b[38;5;124m\"\u001b[39m\u001b[38;5;124malternative\u001b[39m\u001b[38;5;124m\"\u001b[39m], key\u001b[38;5;241m=\u001b[39m\u001b[38;5;28;01mlambda\u001b[39;00m alternative: alternative[\u001b[38;5;124m\"\u001b[39m\u001b[38;5;124mconfidence\u001b[39m\u001b[38;5;124m\"\u001b[39m])\n",
      "\u001b[1;31mUnknownValueError\u001b[0m: "
     ]
    }
   ],
   "source": [
    "import speech_recognition as sr\n",
    "#import sys #-- 텍스트 저장시 사용\n",
    "\n",
    "r = sr.Recognizer()\n",
    "kr_audio = sr.AudioFile('./voice_file.wav')\n",
    "\n",
    "with kr_audio as source:\n",
    "    audio = r.record(source)\n",
    "\n",
    "#sys.stdout = open('news_out.txt', 'w') #-- 텍스트 저장시 사용\n",
    "print(r.recognize_google(audio, language='ko-KR')) #-- 한글 언어 사용\n",
    "\n",
    "#sys.stdout.close() #-- 텍스트 저장시 사용"
   ]
  },
  {
   "cell_type": "code",
   "execution_count": null,
   "id": "4ca55548",
   "metadata": {},
   "outputs": [],
   "source": []
  }
 ],
 "metadata": {
  "kernelspec": {
   "display_name": "noise_kernel",
   "language": "python",
   "name": "noise"
  },
  "language_info": {
   "codemirror_mode": {
    "name": "ipython",
    "version": 3
   },
   "file_extension": ".py",
   "mimetype": "text/x-python",
   "name": "python",
   "nbconvert_exporter": "python",
   "pygments_lexer": "ipython3",
   "version": "3.9.16"
  }
 },
 "nbformat": 4,
 "nbformat_minor": 5
}
