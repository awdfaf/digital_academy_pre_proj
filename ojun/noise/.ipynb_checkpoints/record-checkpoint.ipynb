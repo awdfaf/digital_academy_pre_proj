{
 "cells": [
  {
   "cell_type": "code",
   "execution_count": 5,
   "id": "f404fa4c",
   "metadata": {},
   "outputs": [
    {
     "name": "stdout",
     "output_type": "stream",
     "text": [
      "녹음을 시작합니다...\n",
      "녹음이 완료되었습니다.\n"
     ]
    }
   ],
   "source": [
    "import pyaudio\n",
    "import wave\n",
    "\n",
    "audio = pyaudio.PyAudio()\n",
    "stream = audio.open(format=pyaudio.paInt16, channels=1, rate=44100, input=True, frames_per_buffer=1024)\n",
    "\n",
    "print(\"녹음을 시작합니다...\")\n",
    "\n",
    "frames = []\n",
    "\n",
    "for i in range(0, int(44100 / 1024 * 5)):\n",
    "    data = stream.read(1024)\n",
    "    frames.append(data)\n",
    "\n",
    "print(\"녹음이 완료되었습니다.\")\n",
    "\n",
    "stream.stop_stream()\n",
    "stream.close()\n",
    "audio.terminate()\n",
    "\n",
    "waveFile = wave.open(\"./wav파일들2/recorded({i}).wav\", 'wb')\n",
    "waveFile.setnchannels(1)\n",
    "waveFile.setsampwidth(audio.get_sample_size(pyaudio.paInt16))\n",
    "waveFile.setframerate(44100)\n",
    "waveFile.writeframes(b''.join(frames))\n",
    "waveFile.close()"
   ]
  },
  {
   "cell_type": "code",
   "execution_count": 18,
   "id": "d5c1843f",
   "metadata": {},
   "outputs": [
    {
     "name": "stdout",
     "output_type": "stream",
     "text": [
      "on = 1, 종료 = exit : dgag\n"
     ]
    },
    {
     "ename": "ValueError",
     "evalue": "invalid literal for int() with base 10: 'dgag'",
     "output_type": "error",
     "traceback": [
      "\u001b[1;31m---------------------------------------------------------------------------\u001b[0m",
      "\u001b[1;31mValueError\u001b[0m                                Traceback (most recent call last)",
      "Cell \u001b[1;32mIn[18], line 5\u001b[0m\n\u001b[0;32m      3\u001b[0m \u001b[38;5;28;01mif\u001b[39;00m trigger \u001b[38;5;241m==\u001b[39m \u001b[38;5;124m\"\u001b[39m\u001b[38;5;124mexit\u001b[39m\u001b[38;5;124m\"\u001b[39m :\n\u001b[0;32m      4\u001b[0m     \u001b[38;5;28;01mbreak\u001b[39;00m\n\u001b[1;32m----> 5\u001b[0m \u001b[38;5;28;01melif\u001b[39;00m \u001b[38;5;28;43mint\u001b[39;49m\u001b[43m(\u001b[49m\u001b[43mtrigger\u001b[49m\u001b[43m)\u001b[49m :        \n\u001b[0;32m      6\u001b[0m     audio \u001b[38;5;241m=\u001b[39m pyaudio\u001b[38;5;241m.\u001b[39mPyAudio()\n\u001b[0;32m      7\u001b[0m     stream \u001b[38;5;241m=\u001b[39m audio\u001b[38;5;241m.\u001b[39mopen(\u001b[38;5;28mformat\u001b[39m\u001b[38;5;241m=\u001b[39m pyaudio\u001b[38;5;241m.\u001b[39mpaInt16, channels\u001b[38;5;241m=\u001b[39m\u001b[38;5;241m1\u001b[39m, rate\u001b[38;5;241m=\u001b[39m\u001b[38;5;241m44100\u001b[39m, \u001b[38;5;28minput\u001b[39m\u001b[38;5;241m=\u001b[39m\u001b[38;5;28;01mTrue\u001b[39;00m, frames_per_buffer\u001b[38;5;241m=\u001b[39m\u001b[38;5;241m1024\u001b[39m)\n",
      "\u001b[1;31mValueError\u001b[0m: invalid literal for int() with base 10: 'dgag'"
     ]
    }
   ],
   "source": [
    "while 1:\n",
    "    trigger = input(\"on = 1, 종료 = exit : \")\n",
    "    if trigger == \"exit\" :\n",
    "        break\n",
    "    elif int(trigger) :        \n",
    "        audio = pyaudio.PyAudio()\n",
    "        stream = audio.open(format= pyaudio.paInt16, channels=1, rate=44100, input=True, frames_per_buffer=1024)\n",
    "\n",
    "        print(\"녹음을 시작합니다...\")\n",
    "\n",
    "        frames = []\n",
    "\n",
    "        for i in range(0, int(44100 / 1024 * 5)):\n",
    "            data = stream.read(1024)\n",
    "            frames.append(data)\n",
    "\n",
    "        print(\"녹음이 완료되었습니다.\")\n",
    "\n",
    "        stream.stop_stream()\n",
    "        stream.close()\n",
    "        audio.terminate()\n",
    "\n",
    "        waveFile = wave.open(\"./wav파일들2/recorded({i}).wav\", 'wb')\n",
    "        waveFile.setnchannels(1)\n",
    "        waveFile.setsampwidth(audio.get_sample_size(pyaudio.paInt16))\n",
    "        waveFile.setframerate(44100)\n",
    "        waveFile.writeframes(b''.join(frames))\n",
    "        waveFile.close()"
   ]
  },
  {
   "cell_type": "code",
   "execution_count": 6,
   "id": "ea164bb2",
   "metadata": {},
   "outputs": [],
   "source": []
  },
  {
   "cell_type": "code",
   "execution_count": null,
   "id": "d51e0e93",
   "metadata": {},
   "outputs": [],
   "source": []
  }
 ],
 "metadata": {
  "kernelspec": {
   "display_name": "noise_kernel",
   "language": "python",
   "name": "noise"
  },
  "language_info": {
   "codemirror_mode": {
    "name": "ipython",
    "version": 3
   },
   "file_extension": ".py",
   "mimetype": "text/x-python",
   "name": "python",
   "nbconvert_exporter": "python",
   "pygments_lexer": "ipython3",
   "version": "3.9.16"
  }
 },
 "nbformat": 4,
 "nbformat_minor": 5
}
