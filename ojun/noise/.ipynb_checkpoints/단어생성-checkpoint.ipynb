{
 "cells": [
  {
   "cell_type": "code",
   "execution_count": 1,
   "id": "68153d09",
   "metadata": {},
   "outputs": [
    {
     "name": "stdout",
     "output_type": "stream",
     "text": [
      "배다\n",
      "배를\n",
      "배에\n",
      "배와\n",
      "사과다\n",
      "사과를\n",
      "사과에\n",
      "사과와\n",
      "포도다\n",
      "포도를\n",
      "포도에\n",
      "포도와\n",
      "딸기다\n",
      "딸기를\n",
      "딸기에\n",
      "딸기와\n"
     ]
    }
   ],
   "source": [
    "# 어간과 접사 정의\n",
    "stems = [\"배\", \"사과\", \"포도\", \"딸기\"]\n",
    "suffixes = [\"다\", \"를\", \"에\", \"와\"]\n",
    "\n",
    "# 어간과 접사 조합하여 새로운 단어 생성\n",
    "new_words = []\n",
    "\n",
    "for stem in stems:\n",
    "    for suffix in suffixes:\n",
    "        new_word = stem + suffix\n",
    "        new_words.append(new_word)\n",
    "\n",
    "# 생성된 단어 출력\n",
    "for word in new_words:\n",
    "    print(word)\n"
   ]
  },
  {
   "cell_type": "code",
   "execution_count": null,
   "id": "46b93698",
   "metadata": {},
   "outputs": [],
   "source": []
  },
  {
   "cell_type": "code",
   "execution_count": 24,
   "id": "609aecd7",
   "metadata": {},
   "outputs": [],
   "source": [
    "### 형태소분석\n",
    "from konlpy.tag import Okt"
   ]
  },
  {
   "cell_type": "code",
   "execution_count": 28,
   "id": "48d65b2a",
   "metadata": {},
   "outputs": [
    {
     "data": {
      "text/plain": [
       "<konlpy.tag._okt.Okt at 0x1dde1ba3520>"
      ]
     },
     "execution_count": 28,
     "metadata": {},
     "output_type": "execute_result"
    }
   ],
   "source": [
    "### 형태소 분석기\n",
    "word = Okt()\n",
    "word"
   ]
  },
  {
   "cell_type": "code",
   "execution_count": 29,
   "id": "10c20631",
   "metadata": {},
   "outputs": [],
   "source": [
    "text = \"오늘은 23년 3월 28일 나는 배고프다.\""
   ]
  },
  {
   "cell_type": "code",
   "execution_count": 31,
   "id": "fd11ed84",
   "metadata": {},
   "outputs": [
    {
     "name": "stdout",
     "output_type": "stream",
     "text": [
      "오늘은 23년 3월 28일 나는 배고프다.\n"
     ]
    }
   ],
   "source": [
    "### 명사(Noun) 추출하기\n",
    "word_list = word.nouns(text)\n",
    "word_list"
   ]
  },
  {
   "cell_type": "code",
   "execution_count": null,
   "id": "cca91b1e",
   "metadata": {},
   "outputs": [],
   "source": [
    "from gensim.models import FastText\n",
    "\n",
    "# 미리 학습된 한글 fasttext 모델을 불러옵니다.\n",
    "model = FastText.load_fasttext_format('cc.ko.300.bin')\n",
    "\n",
    "# \"사과\"와 유사한 단어들을 출력합니다.\n",
    "similar_words = model.wv.most_similar(\"사과\")\n",
    "print(similar_words)"
   ]
  },
  {
   "cell_type": "code",
   "execution_count": 3,
   "id": "4d6dbe4a",
   "metadata": {},
   "outputs": [],
   "source": [
    "import fasttext.util"
   ]
  },
  {
   "cell_type": "code",
   "execution_count": null,
   "id": "ab43058e",
   "metadata": {},
   "outputs": [],
   "source": []
  }
 ],
 "metadata": {
  "kernelspec": {
   "display_name": "fasttext_kernel",
   "language": "python",
   "name": "fasttext"
  },
  "language_info": {
   "codemirror_mode": {
    "name": "ipython",
    "version": 3
   },
   "file_extension": ".py",
   "mimetype": "text/x-python",
   "name": "python",
   "nbconvert_exporter": "python",
   "pygments_lexer": "ipython3",
   "version": "3.9.16"
  }
 },
 "nbformat": 4,
 "nbformat_minor": 5
}
