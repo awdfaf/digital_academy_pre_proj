{
 "cells": [
  {
   "cell_type": "code",
   "execution_count": null,
   "id": "e1df309f",
   "metadata": {},
   "outputs": [
    {
     "name": "stdout",
     "output_type": "stream",
     "text": [
      "Waiting for client connection...\n",
      "Connected by ('192.168.0.64', 63469)\n",
      "./wav파일들2\\recorded(1).wav sent successfully.\n",
      "./wav파일들2\\recorded(2).wav sent successfully.\n"
     ]
    }
   ],
   "source": [
    "## server\n",
    "import os\n",
    "import time\n",
    "import socket\n",
    "\n",
    "def send_file(connection, filepath):\n",
    "    with open(filepath, 'rb') as f:\n",
    "        data = f.read(1024)\n",
    "        while data:\n",
    "            connection.send(data)\n",
    "            data = f.read(1024)\n",
    "    connection.send(b'end_of_file')\n",
    "    print(f'{filepath} sent successfully.')\n",
    "\n",
    "HOST = '192.168.0.64'\n",
    "PORT = 12345\n",
    "folder_path = './wav파일들2'\n",
    "sent_files = set()\n",
    "\n",
    "s = socket.socket(socket.AF_INET, socket.SOCK_STREAM)\n",
    "s.bind((HOST, PORT))\n",
    "s.listen(5)\n",
    "\n",
    "print('Waiting for client connection...')\n",
    "conn, addr = s.accept()\n",
    "print(f'Connected by {addr}')\n",
    "\n",
    "while True:\n",
    "    time.sleep(10)  # 감지 주기 조절\n",
    "    current_files = set(os.listdir(folder_path))\n",
    "    new_files = current_files - sent_files\n",
    "\n",
    "    for new_file in new_files:\n",
    "        send_file(conn, os.path.join(folder_path, new_file))\n",
    "        sent_files.add(new_file)\n",
    "        time.sleep(10) # 송신 주기 조절 -> 중요!!\n",
    "\n",
    "conn.close()"
   ]
  },
  {
   "cell_type": "code",
   "execution_count": null,
   "id": "1db70bcc",
   "metadata": {},
   "outputs": [],
   "source": []
  },
  {
   "cell_type": "code",
   "execution_count": null,
   "id": "f1c33ddd",
   "metadata": {},
   "outputs": [],
   "source": []
  },
  {
   "cell_type": "code",
   "execution_count": null,
   "id": "605d9c77",
   "metadata": {},
   "outputs": [],
   "source": []
  },
  {
   "cell_type": "code",
   "execution_count": null,
   "id": "c1902dc2",
   "metadata": {},
   "outputs": [],
   "source": []
  },
  {
   "cell_type": "code",
   "execution_count": null,
   "id": "9e0be829",
   "metadata": {},
   "outputs": [],
   "source": []
  },
  {
   "cell_type": "code",
   "execution_count": null,
   "id": "ee21c3a3",
   "metadata": {},
   "outputs": [],
   "source": []
  },
  {
   "cell_type": "code",
   "execution_count": null,
   "id": "b559b3ce",
   "metadata": {},
   "outputs": [],
   "source": []
  },
  {
   "cell_type": "code",
   "execution_count": null,
   "id": "6b4a6b76",
   "metadata": {},
   "outputs": [],
   "source": []
  },
  {
   "cell_type": "code",
   "execution_count": null,
   "id": "47bb8d8a",
   "metadata": {},
   "outputs": [],
   "source": []
  },
  {
   "cell_type": "code",
   "execution_count": null,
   "id": "483fcdf1",
   "metadata": {},
   "outputs": [],
   "source": []
  },
  {
   "cell_type": "code",
   "execution_count": null,
   "id": "e65bb982",
   "metadata": {},
   "outputs": [],
   "source": []
  },
  {
   "cell_type": "code",
   "execution_count": null,
   "id": "862540a2",
   "metadata": {},
   "outputs": [],
   "source": []
  },
  {
   "cell_type": "code",
   "execution_count": null,
   "id": "f1ac89a2",
   "metadata": {},
   "outputs": [],
   "source": []
  },
  {
   "cell_type": "code",
   "execution_count": null,
   "id": "2e50ccb4",
   "metadata": {},
   "outputs": [],
   "source": []
  },
  {
   "cell_type": "code",
   "execution_count": null,
   "id": "cb5fcef0",
   "metadata": {},
   "outputs": [],
   "source": []
  },
  {
   "cell_type": "code",
   "execution_count": null,
   "id": "3e342000",
   "metadata": {},
   "outputs": [],
   "source": []
  },
  {
   "cell_type": "code",
   "execution_count": null,
   "id": "660bf43f",
   "metadata": {},
   "outputs": [],
   "source": []
  },
  {
   "cell_type": "code",
   "execution_count": null,
   "id": "e2f7f1bd",
   "metadata": {},
   "outputs": [],
   "source": []
  }
 ],
 "metadata": {
  "kernelspec": {
   "display_name": "noise_kernel",
   "language": "python",
   "name": "noise"
  },
  "language_info": {
   "codemirror_mode": {
    "name": "ipython",
    "version": 3
   },
   "file_extension": ".py",
   "mimetype": "text/x-python",
   "name": "python",
   "nbconvert_exporter": "python",
   "pygments_lexer": "ipython3",
   "version": "3.9.16"
  }
 },
 "nbformat": 4,
 "nbformat_minor": 5
}
