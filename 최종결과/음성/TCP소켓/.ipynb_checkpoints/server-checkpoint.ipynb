{
 "cells": [
  {
   "cell_type": "code",
   "execution_count": null,
   "id": "e1df309f",
   "metadata": {},
   "outputs": [],
   "source": [
    "## server\n",
    "import os\n",
    "import time\n",
    "import socket\n",
    "\n",
    "def send_file(connection, filepath):\n",
    "    with open(filepath, 'rb') as f:\n",
    "        data = f.read(1024)\n",
    "        while data:\n",
    "            connection.send(data)\n",
    "            data = f.read(1024)\n",
    "    connection.send(b'end_of_file')\n",
    "    print(f'{filepath} sent successfully.')\n",
    "\n",
    "HOST = '192.168.0.64'\n",
    "PORT = 12345\n",
    "folder_path = './wav파일들2'\n",
    "sent_files = set()\n",
    "\n",
    "s = socket.socket(socket.AF_INET, socket.SOCK_STREAM)\n",
    "s.bind((HOST, PORT))\n",
    "s.listen(5)\n",
    "\n",
    "print('Waiting for client connection...')\n",
    "conn, addr = s.accept()\n",
    "print(f'Connected by {addr}')\n",
    "\n",
    "while True:\n",
    "    time.sleep(10)  # 감지 주기 조절\n",
    "    current_files = set(os.listdir(folder_path))\n",
    "    new_files = current_files - sent_files\n",
    "\n",
    "    for new_file in new_files:\n",
    "        send_file(conn, os.path.join(folder_path, new_file))\n",
    "        sent_files.add(new_file)\n",
    "        time.sleep(10) # 송신 주기 조절 -> 중요!!\n",
    "\n",
    "conn.close()"
   ]
  }
 ],
 "metadata": {
  "kernelspec": {
   "display_name": "noise_kernel",
   "language": "python",
   "name": "noise"
  },
  "language_info": {
   "codemirror_mode": {
    "name": "ipython",
    "version": 3
   },
   "file_extension": ".py",
   "mimetype": "text/x-python",
   "name": "python",
   "nbconvert_exporter": "python",
   "pygments_lexer": "ipython3",
   "version": "3.9.16"
  }
 },
 "nbformat": 4,
 "nbformat_minor": 5
}
