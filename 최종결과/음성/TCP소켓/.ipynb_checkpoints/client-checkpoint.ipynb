{
 "cells": [
  {
   "cell_type": "code",
   "execution_count": null,
   "id": "1f546b70",
   "metadata": {},
   "outputs": [],
   "source": [
    "## client\n",
    "import socket\n",
    "\n",
    "HOST = '192.168.0.64'\n",
    "PORT = 12345\n",
    "cnt = 0\n",
    "\n",
    "s = socket.socket(socket.AF_INET, socket.SOCK_STREAM)\n",
    "s.connect((HOST, PORT))\n",
    "\n",
    "while True:\n",
    "    with open(f'tcp/recorded({cnt}).wav', 'wb') as f:\n",
    "        while True:\n",
    "            data = s.recv(1024)\n",
    "            if data == b'end_of_file':\n",
    "                break\n",
    "            f.write(data)\n",
    "\n",
    "    print(f'File recorded({cnt}) received successfully.')\n",
    "    cnt += 1\n",
    "\n",
    "s.close()"
   ]
  }
 ],
 "metadata": {
  "kernelspec": {
   "display_name": "noise_kernel",
   "language": "python",
   "name": "noise"
  },
  "language_info": {
   "codemirror_mode": {
    "name": "ipython",
    "version": 3
   },
   "file_extension": ".py",
   "mimetype": "text/x-python",
   "name": "python",
   "nbconvert_exporter": "python",
   "pygments_lexer": "ipython3",
   "version": "3.9.16"
  }
 },
 "nbformat": 4,
 "nbformat_minor": 5
}
