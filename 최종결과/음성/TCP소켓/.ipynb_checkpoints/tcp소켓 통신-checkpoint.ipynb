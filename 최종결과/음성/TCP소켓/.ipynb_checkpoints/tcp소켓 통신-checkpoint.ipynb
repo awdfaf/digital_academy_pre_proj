{
 "cells": [
  {
   "cell_type": "code",
   "execution_count": null,
   "id": "747a743c",
   "metadata": {},
   "outputs": [],
   "source": [
    "import os\n",
    "import time\n",
    "import socket\n",
    "\n",
    "def send_file(connection, filepath):\n",
    "    with open(filepath, 'rb') as f:\n",
    "        data = f.read(1024)\n",
    "        while data:\n",
    "            connection.send(data)\n",
    "            data = f.read(1024)\n",
    "    connection.send(b'end_of_file')\n",
    "    print(f'{filepath} sent successfully.')\n",
    "\n",
    "HOST = '192.168.0.69'\n",
    "PORT = 12345\n",
    "folder_path = './wav파일들2'\n",
    "sent_files = set()\n",
    "\n",
    "s = socket.socket(socket.AF_INET, socket.SOCK_STREAM)\n",
    "s.connect((HOST, PORT))\n",
    "\n",
    "while True:\n",
    "    time.sleep(7)  # 감지 주기 조절\n",
    "    current_files = set(os.listdir(folder_path))\n",
    "    new_files = current_files - sent_files\n",
    "\n",
    "    for new_file in new_files:\n",
    "        send_file(s, os.path.join(folder_path, new_file))\n",
    "        sent_files.add(new_file)\n",
    "        time.sleep(7)\n",
    "\n",
    "s.close()"
   ]
  },
  {
   "cell_type": "markdown",
   "id": "854d8a5f",
   "metadata": {},
   "source": [
    "# 2"
   ]
  },
  {
   "cell_type": "code",
   "execution_count": null,
   "id": "70d141cd",
   "metadata": {
    "scrolled": true
   },
   "outputs": [
    {
     "name": "stdout",
     "output_type": "stream",
     "text": [
      "Waiting for client connection...\n",
      "Connected by ('192.168.0.69', 51654)\n",
      "./wav파일들2\\recorded(1) - 복사본.wav sent successfully.\n"
     ]
    }
   ],
   "source": [
    "# 서버 측(노동자) , tcp소켓통신 한정으로 노동자 측이 서버\n",
    "import os\n",
    "import time\n",
    "import socket\n",
    "\n",
    "def send_file(connection, filepath):\n",
    "    with open(filepath, 'rb') as f:\n",
    "        data = f.read(1024)\n",
    "        while data:\n",
    "            connection.send(data)\n",
    "            data = f.read(1024)\n",
    "    connection.send(b'end_of_file')\n",
    "    print(f'{filepath} sent successfully.')\n",
    "\n",
    "HOST = '192.168.0.64'\n",
    "PORT = 12345\n",
    "folder_path = './wav파일들2'\n",
    "sent_files = set()\n",
    "\n",
    "s = socket.socket(socket.AF_INET, socket.SOCK_STREAM)\n",
    "s.bind((HOST, PORT))\n",
    "s.listen(1)\n",
    "\n",
    "print('Waiting for client connection...')\n",
    "conn, addr = s.accept()\n",
    "print(f'Connected by {addr}')\n",
    "\n",
    "while True:\n",
    "    time.sleep(7)  # 감지 주기 조절\n",
    "    current_files = set(os.listdir(folder_path))\n",
    "    new_files = current_files - sent_files\n",
    "\n",
    "    for new_file in new_files:\n",
    "        send_file(conn, os.path.join(folder_path, new_file))\n",
    "        sent_files.add(new_file)\n",
    "        time.sleep(7) # 송신 주기 조절 -> 중요!!\n",
    "conn.close()"
   ]
  },
  {
   "cell_type": "code",
   "execution_count": null,
   "id": "9efd616f",
   "metadata": {},
   "outputs": [],
   "source": []
  }
 ],
 "metadata": {
  "kernelspec": {
   "display_name": "noise_kernel",
   "language": "python",
   "name": "noise"
  },
  "language_info": {
   "codemirror_mode": {
    "name": "ipython",
    "version": 3
   },
   "file_extension": ".py",
   "mimetype": "text/x-python",
   "name": "python",
   "nbconvert_exporter": "python",
   "pygments_lexer": "ipython3",
   "version": "3.9.16"
  }
 },
 "nbformat": 4,
 "nbformat_minor": 5
}
