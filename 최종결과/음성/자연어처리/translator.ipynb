{
 "cells": [
  {
   "cell_type": "code",
   "execution_count": 20,
   "id": "ae4383d8",
   "metadata": {},
   "outputs": [
    {
     "name": "stdout",
     "output_type": "stream",
     "text": [
      "안녕하세요?\n"
     ]
    }
   ],
   "source": [
    "import requests\n",
    "import json\n",
    "\n",
    "# 발급받은 클라이언트 ID와 클라이언트 시크릿을 입력하세요.\n",
    "client_id = \"8QNC6WEut1cZ5r1Flsc6\"\n",
    "client_secret = \"ci6mvyty4v\"\n",
    "\n",
    "def translate_text(text, source_lang, target_lang):\n",
    "    url = \"https://openapi.naver.com/v1/papago/n2mt\"\n",
    "    headers = {\n",
    "        \"X-Naver-Client-Id\": client_id,\n",
    "        \"X-Naver-Client-Secret\": client_secret,\n",
    "    }\n",
    "    data = {\n",
    "        \"source\": source_lang,\n",
    "        \"target\": target_lang,\n",
    "        \"text\": text,\n",
    "    }\n",
    "    response = requests.post(url, headers=headers, data=data)\n",
    "    result = json.loads(response.text)\n",
    "    translated_text = result['message']['result']['translatedText']\n",
    "    return translated_text\n",
    "\n",
    "# 사용 예시\n",
    "text = \"Hello, how are you?\"\n",
    "source_lang = \"en\"\n",
    "target_lang = \"ko\"\n",
    "\n",
    "translated_text = translate_text(text, source_lang, target_lang)\n",
    "print(translated_text)\n"
   ]
  },
  {
   "cell_type": "code",
   "execution_count": 1,
   "id": "0d652aeb",
   "metadata": {},
   "outputs": [
    {
     "name": "stderr",
     "output_type": "stream",
     "text": [
      "C:\\Users\\Administrator\\anaconda3\\envs\\noise\\lib\\site-packages\\requests\\__init__.py:109: RequestsDependencyWarning: urllib3 (1.26.14) or chardet (None)/charset_normalizer (3.1.0) doesn't match a supported version!\n",
      "  warnings.warn(\n"
     ]
    },
    {
     "name": "stdout",
     "output_type": "stream",
     "text": [
      "제 사장의 지안실은 어디에 있습니까? 이사님 자리는 어디입니까? 새로운 관저 대표님. 여기는 장방입니다. 여기는 새로운 관저입니다. 번역가 자리입니다. 우리는 어디에 어울릴까요? 그녀는 지금 구름을 피우고 있습니다. 반씨를 얼마나 높이 잡고 있나요? 누가 얼마나 높이 죽이고 있나요? 짜잔 짜잔 짜잔 짜잔 짜잔 짜잔 짜잔 짜잔 짜잔 짜잔 짜잔 짜잔 짜잔 짜잔 짜잔 짜잔 짜잔 짜잔 짜잔 짜잔 짜잔 짜잔 짜잔 짜잔 짜잔 짜잔 짜잔 짜잔 짜잔 짜잔 짜잔 짜잔 짜잔 짜잔 오늘 나는 계속해 볼 수 있었다.\n"
     ]
    }
   ],
   "source": [
    "import requests\n",
    "import json\n",
    "\n",
    "# 발급받은 클라이언트 ID와 클라이언트 시크릿을 입력하세요.\n",
    "client_id = \"8QNC6WEut1cZ5r1Flsc6\"\n",
    "client_secret = \"ci6mvyty4v\"\n",
    "\n",
    "def detect_language(text):\n",
    "    url = \"https://openapi.naver.com/v1/papago/detectLangs\"\n",
    "    headers = {\n",
    "        \"X-Naver-Client-Id\": client_id,\n",
    "        \"X-Naver-Client-Secret\": client_secret,\n",
    "    }\n",
    "    data = {\"query\": text}\n",
    "    response = requests.post(url, headers=headers, data=data)\n",
    "    result = json.loads(response.text)\n",
    "    return result[\"langCode\"]\n",
    "\n",
    "def translate_text(text, target_lang):\n",
    "    source_lang = detect_language(text)\n",
    "    if source_lang == \"ko\" :\n",
    "        return text \n",
    "    else:\n",
    "        url = \"https://openapi.naver.com/v1/papago/n2mt\"\n",
    "        headers = {\n",
    "            \"X-Naver-Client-Id\": client_id,\n",
    "            \"X-Naver-Client-Secret\": client_secret,\n",
    "        }\n",
    "        data = {\n",
    "            \"source\": source_lang,\n",
    "            \"target\": target_lang,\n",
    "            \"text\": text,\n",
    "        }\n",
    "        response = requests.post(url, headers=headers, data=data)\n",
    "        result = json.loads(response.text)\n",
    "        translated_text = result[\"message\"][\"result\"][\"translatedText\"]\n",
    "        return translated_text\n",
    "\n",
    "# 사용 예시\n",
    "text = \"Ở đây rất nóng, ẩm và ồn ào. Mệt quá nên muốn nghỉ ngơi.\"\n",
    "target_lang = \"ko\"\n",
    "\n",
    "translated_text = translate_text(text, target_lang)\n",
    "print(translated_text)"
   ]
  },
  {
   "cell_type": "code",
   "execution_count": null,
   "id": "938bdfd5",
   "metadata": {},
   "outputs": [],
   "source": []
  }
 ],
 "metadata": {
  "kernelspec": {
   "display_name": "noise_kernel",
   "language": "python",
   "name": "noise"
  },
  "language_info": {
   "codemirror_mode": {
    "name": "ipython",
    "version": 3
   },
   "file_extension": ".py",
   "mimetype": "text/x-python",
   "name": "python",
   "nbconvert_exporter": "python",
   "pygments_lexer": "ipython3",
   "version": "3.9.16"
  }
 },
 "nbformat": 4,
 "nbformat_minor": 5
}
